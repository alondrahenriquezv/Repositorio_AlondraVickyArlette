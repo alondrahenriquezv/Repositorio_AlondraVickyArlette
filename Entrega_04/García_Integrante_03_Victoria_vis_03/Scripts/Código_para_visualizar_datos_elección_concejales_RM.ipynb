Código_para_visualizar_datos_elección_concejales_RM

import matplotlib.pyplot as plt

# Datos
años = ['2012', '2016', '2021']
hombres = [261, 261, 201]
mujeres = [131, 137, 205]

# Crear el gráfico de barras apiladas
fig, ax = plt.subplots()

ax.bar(años, hombres, label='Hombres Electos')
ax.bar(años, mujeres, bottom=hombres, label='Mujeres Electas')

# Añadir etiquetas y leyenda
ax.set_xlabel('Año de Elección')
ax.set_ylabel('Número de Concejales Electos')
ax.set_title('Representación de Género en Elecciones de Concejales en la RM (2012-2021)')
ax.legend()

# Mostrar el gráfico
plt.show()

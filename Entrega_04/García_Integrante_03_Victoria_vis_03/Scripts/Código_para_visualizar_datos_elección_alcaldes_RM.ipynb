Código_para_visualizar_datos_elección_alcaldes_RM.ipynb
import matplotlib.pyplot as plt
import numpy as np

# Datos
años = ['2012', '2016', '2021']
hombres = [44, 44, 36]
mujeres = [8, 8, 16]

# Crear el gráfico de barras apiladas
fig, ax = plt.subplots()

ax.bar(años, hombres, label='Hombres Electos')
ax.bar(años, mujeres, bottom=hombres, label='Mujeres Electas')

# Añadir etiquetas y leyenda
ax.set_xlabel('Año de Elección')
ax.set_ylabel('Número de Alcaldes Electos')
ax.set_title('Representación de Género en Elecciones de Alcaldes en la RM (2012-2021)')
ax.legend()

# Mostrar el gráfico
plt.show()